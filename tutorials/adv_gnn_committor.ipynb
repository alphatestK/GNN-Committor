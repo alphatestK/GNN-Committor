{
 "cells": [
  {
   "cell_type": "markdown",
   "metadata": {},
   "source": [
    "# Using `mlcolvar` with graph neural network Committor (GNN Committor)\n",
    "[![Open in Colab](https://colab.research.google.com/assets/colab-badge.svg)](https://colab.research.google.com/github/alphatestK/GNN-Committor/blob/main/tutorials/adv_gnn_committor.ipynb)"
   ]
  },
  {
   "cell_type": "markdown",
   "metadata": {},
   "source": [
    "##### NOTE\n",
    "Most of the workings of the library are the same using standard feed-forward-nn-based machine-learning CVs or GNN-based ones.\n",
    "Thus, it is recommended to first go through the basic tutorials for the standard scenario before moving to this tutorial."
   ]
  },
  {
   "cell_type": "markdown",
   "metadata": {},
   "source": [
    "### Feed-Forward-based CVs vs GNN-based CVs\n",
    "\n",
    "The default setting of `mlcolvar` is to represent the CVs as the output nodes of Feed-Forward Neural Networks (FFNNs or NNs, for simplicity) which take as input a set of physical descriptors (e.g., distances, angles, etc.).\n",
    "The code is thus designed to reflect this choice, with the default values of the classes set to intilialize the CV model in this framework, which is the most diffused for the time being in the field of machine-learning CVs and suits the needs of most users.\n",
    "\n",
    "However, recently a different approach have been proposed, in which the CVs are represented as Graph Neural Networks (GNNs) which directly take as input the Cartesian coordinates of the atoms in the studied system and return the CV space after a node-pooling operation on the output layer.\n",
    "This approach is thus descriptor-free and goes in the direcion of a more automated way of desgining CVs.\n",
    "Unfortunately, it typically comes at a higher computational cost (i.e., slower trainign and evaluation fo the CV) and the underlying codebase is more complex (i.e., more complex models and data format.)\n",
    "\n",
    "In this tutorial, we show how GNN models can be used within `mlcolvar` to build Committor using the implemented methods.\n"
   ]
  },
  {
   "cell_type": "code",
   "execution_count": 1,
   "metadata": {},
   "outputs": [],
   "source": [
    "# Colab setup\n",
    "import os\n",
    "\n",
    "if os.getenv(\"COLAB_RELEASE_TAG\"):\n",
    "    import subprocess\n",
    "    subprocess.run('wget https://raw.githubusercontent.com/luigibonati/mlcolvar/main/colab_setup.sh', shell=True)\n",
    "    cmd = subprocess.run('bash colab_setup.sh TUTORIAL', shell=True, stdout=subprocess.PIPE)\n",
    "    print(cmd.stdout.decode('utf-8'))"
   ]
  },
  {
   "cell_type": "markdown",
   "metadata": {},
   "source": [
    "### Outline\n",
    "Typically, the process of constructing a GNN-based CV requires the following ingredients;\n",
    "1. A **dataset** of attributed connected graphs (nodes and edges), which are constructed from the atomic positions\n",
    "2. A **GNN-model** to represent the CV. Different architectures can be used in this regard.\n",
    " "
   ]
  },
  {
   "cell_type": "markdown",
   "metadata": {},
   "source": [
    "### Load data\n",
    "#### The inputs of GNNs CVs\n",
    "The input of GNN models are attributed and connected graphs, in which nodes (representing the atoms, in our case) are connected by edges (the lines of the graph).\n",
    "Nodes and edges are then assigned with scalar and, eventually, vector features that are then processed through the layers of the GNN.\n",
    "\n",
    "In the context of GNN-CVs, such graphs most likely are created directly from the atomic coordinates from a trajectory file and the connectivity between the nodes is determined according to a radial `cutoff`.\n",
    "\n",
    "#### Truncated graphs\n",
    "In some cases, graphs can be built focusing the attention on a subset of the whole system, e.g., a molecule on a surface, but still keeping into account the interaction with the environment, e.g., the surface.\n",
    "In this case, only the ndoes from the `system_selection` will be used for the final pooling, whereas the nodes from the `enviroment_selection` will be used only to update the information through the layers.\n",
    "Moreover, to reduce the computational costs, only the atoms closer to the `system_selection` atoms will be included in the graphs, according to the set `cutoff` and a `buffer` value to ensure stability e continuity. \n",
    "For example, this setup is useful when treting solvent or surface interactions.\n",
    "\n",
    "#### Create dataset from trajectory files\n",
    "To make this process easier, in `mlcolvar` there is an util function to do this under-the-hood: `create_dataset_from_trajectories`, which is analogous to the create_dataset_from_files used with descriptors.\n",
    "The loading process is built on the external library [`MDTraj`](https://www.mdtraj.org/), which can natively load most common trajectory+topology format used in biophysics.\n",
    "On the other hand, for less-bio applications (e.g., solids, surfaces, molecules) we recommend using the `.xyz` file format.\n",
    "\n",
    "One advantage of MDTraj, is that it comes with a simple and user friendly synthax for atom selection, which can be used also here.\n",
    "\n",
    "Here, as an example, we load some data about the state A and B of Alanine Dipeptide."
   ]
  },
  {
   "cell_type": "code",
   "execution_count": 3,
   "metadata": {},
   "outputs": [
    {
     "name": "stdout",
     "output_type": "stream",
     "text": [
      "dcdplugin) detected standard 32-bit DCD file of native endianness\n",
      "dcdplugin) CHARMM format DCD file (also NAMD 2.1 and later)\n",
      "dcdplugin) detected standard 32-bit DCD file of native endianness\n",
      "dcdplugin) CHARMM format DCD file (also NAMD 2.1 and later)\n",
      "Dataset info:\n",
      " DictDataset( \"data_list\": 2000, \"z_table\": [8, 11, 17], \"cutoff\": 6.0, \"used_idx\": tensor([  0,   1,   2,   3,   4,   5,   6,   7,   8,   9,  10,  11,  12,  13,\n",
      "         14,  15,  16,  17,  18,  19,  20,  21,  22,  23,  24,  25,  26,  27,\n",
      "         28,  29,  30,  31,  32,  33,  34,  35,  36,  37,  38,  39,  40,  41,\n",
      "         42,  43,  44,  45,  46,  47,  48,  49,  50,  51,  52,  53,  54,  55,\n",
      "         56,  57,  58,  59,  60,  61,  62,  63,  64,  65,  66,  67,  68,  69,\n",
      "         70,  71,  72,  73,  74,  75,  76,  77,  78,  79,  80,  81,  82,  83,\n",
      "         84,  85,  86,  87,  88,  89,  90,  91,  92,  93,  94,  95,  96,  97,\n",
      "         98,  99, 100, 101, 102, 103, 104, 105, 106, 107, 108, 109, 110, 111,\n",
      "        112, 113, 114, 115, 116, 117, 118, 119, 120, 121, 122, 123, 124, 125,\n",
      "        126, 127, 128, 129, 130, 131, 132, 133, 134, 135, 136, 137, 138, 139,\n",
      "        140, 141, 142, 143, 144, 145, 146, 147, 148, 149, 150, 151, 152, 153,\n",
      "        154, 155, 156, 157, 158, 159, 160, 161, 162, 163, 164, 165, 166, 167,\n",
      "        168, 169, 170, 171, 172, 173, 174, 175, 176, 177, 178, 179, 180, 181,\n",
      "        182, 183, 184, 185, 186, 187, 188, 189, 190, 191, 192, 193, 194, 195,\n",
      "        196, 197, 198, 199, 200, 201, 202, 203, 204, 205, 206, 207, 208, 209,\n",
      "        210, 211, 212, 213, 214, 215, 216, 217]), \"used_names\": [SOD1-Na, CLA2-Cl, HOH5-O, HOH21-O, HOH44-O, HOH46-O, HOH47-O, HOH48-O, HOH64-O, HOH67-O, HOH68-O, HOH87-O, HOH111-O, HOH130-O, HOH133-O, HOH150-O, HOH152-O, HOH167-O, HOH239-O, HOH424-O, HOH465-O, HOH469-O, HOH484-O, HOH485-O, HOH486-O, HOH503-O, HOH506-O, HOH509-O, HOH543-O, HOH554-O, HOH558-O, HOH575-O, HOH594-O, HOH634-O, HOH822-O, HOH849-O, HOH867-O, HOH906-O, HOH907-O, HOH908-O, HOH924-O, HOH928-O, HOH929-O, HOH930-O, HOH932-O, HOH942-O, HOH947-O, HOH948-O, HOH951-O, HOH952-O, HOH953-O, HOH972-O, HOH995-O, HOH1007-O, HOH1013-O, HOH1017-O, HOH1027-O, HOH1032-O, HOH1301-O, HOH1307-O, HOH1326-O, HOH1327-O, HOH1328-O, HOH1333-O, HOH1349-O, HOH1352-O, HOH1367-O, HOH1370-O, HOH1371-O, HOH1374-O, HOH1387-O, HOH1388-O, HOH1389-O, HOH1392-O, HOH1411-O, HOH1413-O, HOH1428-O, HOH1429-O, HOH1433-O, HOH1440-O, HOH1454-O, HOH1457-O, HOH1494-O, HOH1497-O, HOH1707-O, HOH1723-O, HOH1725-O, HOH1730-O, HOH1733-O, HOH1746-O, HOH1764-O, HOH1766-O, HOH1771-O, HOH1773-O, HOH1789-O, HOH1790-O, HOH1813-O, HOH1814-O, HOH1829-O, HOH1830-O, HOH1831-O, HOH1853-O, HOH1854-O, HOH1856-O, HOH1871-O, HOH1873-O, HOH1894-O, HOH1911-O, HOH1915-O, HOH2123-O, HOH2163-O, HOH2165-O, HOH2167-O, HOH2227-O, HOH2231-O, HOH2244-O, HOH2250-O, HOH2251-O, HOH2253-O, HOH2254-O, HOH2270-O, HOH2272-O, HOH2280-O, HOH2288-O, HOH2293-O, HOH2309-O, HOH2311-O, HOH2316-O, HOH2317-O, HOH2335-O, HOH2351-O, HOH2355-O, HOH2357-O, HOH2358-O, HOH2377-O, HOH2380-O, HOH2606-O, HOH2607-O, HOH2608-O, HOH2634-O, HOH2669-O, HOH2673-O, HOH2691-O, HOH2694-O, HOH2732-O, HOH2735-O, HOH2778-O, HOH3010-O, HOH3049-O, HOH3072-O, HOH3073-O, HOH3086-O, HOH3091-O, HOH3108-O, HOH3150-O, HOH3173-O, HOH3177-O, HOH3196-O, HOH3426-O, HOH3442-O, HOH3447-O, HOH3527-O, HOH3545-O, HOH3548-O, HOH3619-O, HOH3641-O, HOH3660-O, HOH3662-O, HOH3976-O, HOH3977-O, HOH3991-O, HOH4012-O, HOH4036-O, HOH4074-O, HOH4077-O, HOH4501-O, HOH4515-O, HOH4809-O, HOH4849-O, HOH5320-O, HOH6240-O, HOH6726-O, HOH7222-O, HOH7479-O, HOH7510-O, HOH7630-O, HOH7707-O, HOH7985-O, HOH8023-O, HOH8029-O, HOH8364-O, HOH8403-O, HOH8411-O, HOH8425-O, HOH8466-O, HOH8468-O, HOH8528-O, HOH8536-O, HOH8548-O, HOH8556-O, HOH8780-O, HOH8801-O, HOH8822-O, HOH8829-O, HOH8843-O, HOH8845-O, HOH8869-O, HOH8903-O, HOH8905-O, HOH8931-O, HOH8932-O, HOH8935-O, HOH8949-O, HOH8977-O, HOH9082-O, HOH9096-O, HOH9226-O, HOH9241-O], \"data_type\": graphs )\n",
      "\n",
      "Datamodule info:\n",
      " DictModule(dataset -> DictDataset( \"data_list\": 2000, \"z_table\": [8, 11, 17], \"cutoff\": 6.0, \"used_idx\": tensor([  0,   1,   2,   3,   4,   5,   6,   7,   8,   9,  10,  11,  12,  13,\n",
      "         14,  15,  16,  17,  18,  19,  20,  21,  22,  23,  24,  25,  26,  27,\n",
      "         28,  29,  30,  31,  32,  33,  34,  35,  36,  37,  38,  39,  40,  41,\n",
      "         42,  43,  44,  45,  46,  47,  48,  49,  50,  51,  52,  53,  54,  55,\n",
      "         56,  57,  58,  59,  60,  61,  62,  63,  64,  65,  66,  67,  68,  69,\n",
      "         70,  71,  72,  73,  74,  75,  76,  77,  78,  79,  80,  81,  82,  83,\n",
      "         84,  85,  86,  87,  88,  89,  90,  91,  92,  93,  94,  95,  96,  97,\n",
      "         98,  99, 100, 101, 102, 103, 104, 105, 106, 107, 108, 109, 110, 111,\n",
      "        112, 113, 114, 115, 116, 117, 118, 119, 120, 121, 122, 123, 124, 125,\n",
      "        126, 127, 128, 129, 130, 131, 132, 133, 134, 135, 136, 137, 138, 139,\n",
      "        140, 141, 142, 143, 144, 145, 146, 147, 148, 149, 150, 151, 152, 153,\n",
      "        154, 155, 156, 157, 158, 159, 160, 161, 162, 163, 164, 165, 166, 167,\n",
      "        168, 169, 170, 171, 172, 173, 174, 175, 176, 177, 178, 179, 180, 181,\n",
      "        182, 183, 184, 185, 186, 187, 188, 189, 190, 191, 192, 193, 194, 195,\n",
      "        196, 197, 198, 199, 200, 201, 202, 203, 204, 205, 206, 207, 208, 209,\n",
      "        210, 211, 212, 213, 214, 215, 216, 217]), \"used_names\": [SOD1-Na, CLA2-Cl, HOH5-O, HOH21-O, HOH44-O, HOH46-O, HOH47-O, HOH48-O, HOH64-O, HOH67-O, HOH68-O, HOH87-O, HOH111-O, HOH130-O, HOH133-O, HOH150-O, HOH152-O, HOH167-O, HOH239-O, HOH424-O, HOH465-O, HOH469-O, HOH484-O, HOH485-O, HOH486-O, HOH503-O, HOH506-O, HOH509-O, HOH543-O, HOH554-O, HOH558-O, HOH575-O, HOH594-O, HOH634-O, HOH822-O, HOH849-O, HOH867-O, HOH906-O, HOH907-O, HOH908-O, HOH924-O, HOH928-O, HOH929-O, HOH930-O, HOH932-O, HOH942-O, HOH947-O, HOH948-O, HOH951-O, HOH952-O, HOH953-O, HOH972-O, HOH995-O, HOH1007-O, HOH1013-O, HOH1017-O, HOH1027-O, HOH1032-O, HOH1301-O, HOH1307-O, HOH1326-O, HOH1327-O, HOH1328-O, HOH1333-O, HOH1349-O, HOH1352-O, HOH1367-O, HOH1370-O, HOH1371-O, HOH1374-O, HOH1387-O, HOH1388-O, HOH1389-O, HOH1392-O, HOH1411-O, HOH1413-O, HOH1428-O, HOH1429-O, HOH1433-O, HOH1440-O, HOH1454-O, HOH1457-O, HOH1494-O, HOH1497-O, HOH1707-O, HOH1723-O, HOH1725-O, HOH1730-O, HOH1733-O, HOH1746-O, HOH1764-O, HOH1766-O, HOH1771-O, HOH1773-O, HOH1789-O, HOH1790-O, HOH1813-O, HOH1814-O, HOH1829-O, HOH1830-O, HOH1831-O, HOH1853-O, HOH1854-O, HOH1856-O, HOH1871-O, HOH1873-O, HOH1894-O, HOH1911-O, HOH1915-O, HOH2123-O, HOH2163-O, HOH2165-O, HOH2167-O, HOH2227-O, HOH2231-O, HOH2244-O, HOH2250-O, HOH2251-O, HOH2253-O, HOH2254-O, HOH2270-O, HOH2272-O, HOH2280-O, HOH2288-O, HOH2293-O, HOH2309-O, HOH2311-O, HOH2316-O, HOH2317-O, HOH2335-O, HOH2351-O, HOH2355-O, HOH2357-O, HOH2358-O, HOH2377-O, HOH2380-O, HOH2606-O, HOH2607-O, HOH2608-O, HOH2634-O, HOH2669-O, HOH2673-O, HOH2691-O, HOH2694-O, HOH2732-O, HOH2735-O, HOH2778-O, HOH3010-O, HOH3049-O, HOH3072-O, HOH3073-O, HOH3086-O, HOH3091-O, HOH3108-O, HOH3150-O, HOH3173-O, HOH3177-O, HOH3196-O, HOH3426-O, HOH3442-O, HOH3447-O, HOH3527-O, HOH3545-O, HOH3548-O, HOH3619-O, HOH3641-O, HOH3660-O, HOH3662-O, HOH3976-O, HOH3977-O, HOH3991-O, HOH4012-O, HOH4036-O, HOH4074-O, HOH4077-O, HOH4501-O, HOH4515-O, HOH4809-O, HOH4849-O, HOH5320-O, HOH6240-O, HOH6726-O, HOH7222-O, HOH7479-O, HOH7510-O, HOH7630-O, HOH7707-O, HOH7985-O, HOH8023-O, HOH8029-O, HOH8364-O, HOH8403-O, HOH8411-O, HOH8425-O, HOH8466-O, HOH8468-O, HOH8528-O, HOH8536-O, HOH8548-O, HOH8556-O, HOH8780-O, HOH8801-O, HOH8822-O, HOH8829-O, HOH8843-O, HOH8845-O, HOH8869-O, HOH8903-O, HOH8905-O, HOH8931-O, HOH8932-O, HOH8935-O, HOH8949-O, HOH8977-O, HOH9082-O, HOH9096-O, HOH9226-O, HOH9241-O], \"data_type\": graphs ),\n",
      "\t\t     train_loader -> DictLoader(length=0.8, batch_size=2000, shuffle=True),\n",
      "\t\t     valid_loader -> DictLoader(length=0.2, batch_size=2000, shuffle=True))\n"
     ]
    }
   ],
   "source": [
    "from mlcolvar.data import DictModule\n",
    "from mlcolvar.utils.io import create_dataset_from_trajectories\n",
    "\n",
    "# loading arguments \n",
    "# same as to laod_dataframe\n",
    "load_args = [{'start' : 0, 'stop' : 5000, 'stride' : 5},\n",
    "               {'start' : 0, 'stop' : 5000, 'stride' : 5}]\n",
    "\n",
    "# create dataset\n",
    "dataset = create_dataset_from_trajectories(\n",
    "    trajectories=[\"traj_r.dcd\",     \n",
    "                  \"traj_p.dcd\"],\n",
    "    top=\"nacl.pdb\",               \n",
    "    folder=\"data_nacl\",      \n",
    "    cutoff=6.0,  # Angstrom   \n",
    "    buffer =1.0,     \n",
    "    labels=None,  \n",
    "    system_selection='type Na or type Cl',\n",
    "    environment_selection='type O',                \n",
    "    show_progress=False,\n",
    "    load_args=load_args,\n",
    "    lengths_conversion=10.0, # MDTraj uses nm by defualt, we use Angstroms\n",
    "    )\n",
    "print('Dataset info:\\n', dataset, end=\"\\n\\n\")\n",
    "\n",
    "# load dataset into a DictModule\n",
    "datamodule = DictModule(dataset=dataset)\n",
    "# datamodule = DictModule(dataset=dataset, batch_size=1000)\n",
    "print('Datamodule info:\\n', datamodule)"
   ]
  },
  {
   "cell_type": "markdown",
   "metadata": {},
   "source": [
    "#### Accessing graph data\n",
    "The built graphs are then stored as `torch_geometric.Data` objects into the usual `DictDataset` with the information about each graph entry (e.g., nodes positons, edges, weights, elabels etc.) under tehe key `data_list` and the common information for all the graphs (e.g., map from types to chemical species, cutoff) in the `metadata` attribute dictionary."
   ]
  },
  {
   "cell_type": "code",
   "execution_count": 4,
   "metadata": {},
   "outputs": [
    {
     "name": "stdout",
     "output_type": "stream",
     "text": [
      "Example of a graph entry:\n",
      " Data(edge_index=[2, 1186], shifts=[1186, 3], unit_shifts=[1186, 3], positions=[68, 3], cell=[3, 3], node_attrs=[68, 3], graph_labels=[1, 1], n_system=[1, 1], n_env=[1, 1], system_masks=[68, 1], weight=1.0, names_idx=[68])\n",
      "\n",
      "Dataset metadata:\n",
      " {'z_table': [8, 11, 17], 'cutoff': 6.0, 'used_idx': tensor([  0,   1,   2,   3,   4,   5,   6,   7,   8,   9,  10,  11,  12,  13,\n",
      "         14,  15,  16,  17,  18,  19,  20,  21,  22,  23,  24,  25,  26,  27,\n",
      "         28,  29,  30,  31,  32,  33,  34,  35,  36,  37,  38,  39,  40,  41,\n",
      "         42,  43,  44,  45,  46,  47,  48,  49,  50,  51,  52,  53,  54,  55,\n",
      "         56,  57,  58,  59,  60,  61,  62,  63,  64,  65,  66,  67,  68,  69,\n",
      "         70,  71,  72,  73,  74,  75,  76,  77,  78,  79,  80,  81,  82,  83,\n",
      "         84,  85,  86,  87,  88,  89,  90,  91,  92,  93,  94,  95,  96,  97,\n",
      "         98,  99, 100, 101, 102, 103, 104, 105, 106, 107, 108, 109, 110, 111,\n",
      "        112, 113, 114, 115, 116, 117, 118, 119, 120, 121, 122, 123, 124, 125,\n",
      "        126, 127, 128, 129, 130, 131, 132, 133, 134, 135, 136, 137, 138, 139,\n",
      "        140, 141, 142, 143, 144, 145, 146, 147, 148, 149, 150, 151, 152, 153,\n",
      "        154, 155, 156, 157, 158, 159, 160, 161, 162, 163, 164, 165, 166, 167,\n",
      "        168, 169, 170, 171, 172, 173, 174, 175, 176, 177, 178, 179, 180, 181,\n",
      "        182, 183, 184, 185, 186, 187, 188, 189, 190, 191, 192, 193, 194, 195,\n",
      "        196, 197, 198, 199, 200, 201, 202, 203, 204, 205, 206, 207, 208, 209,\n",
      "        210, 211, 212, 213, 214, 215, 216, 217]), 'used_names': [SOD1-Na, CLA2-Cl, HOH5-O, HOH21-O, HOH44-O, HOH46-O, HOH47-O, HOH48-O, HOH64-O, HOH67-O, HOH68-O, HOH87-O, HOH111-O, HOH130-O, HOH133-O, HOH150-O, HOH152-O, HOH167-O, HOH239-O, HOH424-O, HOH465-O, HOH469-O, HOH484-O, HOH485-O, HOH486-O, HOH503-O, HOH506-O, HOH509-O, HOH543-O, HOH554-O, HOH558-O, HOH575-O, HOH594-O, HOH634-O, HOH822-O, HOH849-O, HOH867-O, HOH906-O, HOH907-O, HOH908-O, HOH924-O, HOH928-O, HOH929-O, HOH930-O, HOH932-O, HOH942-O, HOH947-O, HOH948-O, HOH951-O, HOH952-O, HOH953-O, HOH972-O, HOH995-O, HOH1007-O, HOH1013-O, HOH1017-O, HOH1027-O, HOH1032-O, HOH1301-O, HOH1307-O, HOH1326-O, HOH1327-O, HOH1328-O, HOH1333-O, HOH1349-O, HOH1352-O, HOH1367-O, HOH1370-O, HOH1371-O, HOH1374-O, HOH1387-O, HOH1388-O, HOH1389-O, HOH1392-O, HOH1411-O, HOH1413-O, HOH1428-O, HOH1429-O, HOH1433-O, HOH1440-O, HOH1454-O, HOH1457-O, HOH1494-O, HOH1497-O, HOH1707-O, HOH1723-O, HOH1725-O, HOH1730-O, HOH1733-O, HOH1746-O, HOH1764-O, HOH1766-O, HOH1771-O, HOH1773-O, HOH1789-O, HOH1790-O, HOH1813-O, HOH1814-O, HOH1829-O, HOH1830-O, HOH1831-O, HOH1853-O, HOH1854-O, HOH1856-O, HOH1871-O, HOH1873-O, HOH1894-O, HOH1911-O, HOH1915-O, HOH2123-O, HOH2163-O, HOH2165-O, HOH2167-O, HOH2227-O, HOH2231-O, HOH2244-O, HOH2250-O, HOH2251-O, HOH2253-O, HOH2254-O, HOH2270-O, HOH2272-O, HOH2280-O, HOH2288-O, HOH2293-O, HOH2309-O, HOH2311-O, HOH2316-O, HOH2317-O, HOH2335-O, HOH2351-O, HOH2355-O, HOH2357-O, HOH2358-O, HOH2377-O, HOH2380-O, HOH2606-O, HOH2607-O, HOH2608-O, HOH2634-O, HOH2669-O, HOH2673-O, HOH2691-O, HOH2694-O, HOH2732-O, HOH2735-O, HOH2778-O, HOH3010-O, HOH3049-O, HOH3072-O, HOH3073-O, HOH3086-O, HOH3091-O, HOH3108-O, HOH3150-O, HOH3173-O, HOH3177-O, HOH3196-O, HOH3426-O, HOH3442-O, HOH3447-O, HOH3527-O, HOH3545-O, HOH3548-O, HOH3619-O, HOH3641-O, HOH3660-O, HOH3662-O, HOH3976-O, HOH3977-O, HOH3991-O, HOH4012-O, HOH4036-O, HOH4074-O, HOH4077-O, HOH4501-O, HOH4515-O, HOH4809-O, HOH4849-O, HOH5320-O, HOH6240-O, HOH6726-O, HOH7222-O, HOH7479-O, HOH7510-O, HOH7630-O, HOH7707-O, HOH7985-O, HOH8023-O, HOH8029-O, HOH8364-O, HOH8403-O, HOH8411-O, HOH8425-O, HOH8466-O, HOH8468-O, HOH8528-O, HOH8536-O, HOH8548-O, HOH8556-O, HOH8780-O, HOH8801-O, HOH8822-O, HOH8829-O, HOH8843-O, HOH8845-O, HOH8869-O, HOH8903-O, HOH8905-O, HOH8931-O, HOH8932-O, HOH8935-O, HOH8949-O, HOH8977-O, HOH9082-O, HOH9096-O, HOH9226-O, HOH9241-O], 'data_type': 'graphs'}\n"
     ]
    }
   ],
   "source": [
    "print('Example of a graph entry:\\n', dataset['data_list'][0], end='\\n\\n')\n",
    "print('Dataset metadata:\\n', dataset.metadata)"
   ]
  },
  {
   "cell_type": "markdown",
   "metadata": {},
   "source": [
    "### Initializing the GNN model\n",
    "At variance with the procedure with FFNNs, here the model is initialized **outside** the CV class, to which is then passed only later as an input.\n",
    "GNN architectures are indeed much more complex than FFNNs and have many parameters that can be set.\n",
    "In addition, when introducing GNN models into the code, we maintained the standard CVs as the default, which still covers most of the users.\n",
    "\n",
    "Here, for example, we initialize a `SchNetModel`.\n",
    "Many other architectures are available in [`pytorch_geometric`](https://pytorch-geometric.readthedocs.io/en/latest/) and can be readily adapted to this library.\n",
    "\n",
    "#### NOTE\n",
    "As the input graph are built with the dataset and then processed in the GNN-model, it is wise to initialize the model directly refering to the values stored in the `dataset.metadata` (e.g., cutoff, z_table)"
   ]
  },
  {
   "cell_type": "code",
   "execution_count": 5,
   "metadata": {},
   "outputs": [],
   "source": [
    "from mlcolvar.core.nn.graph.schnet import SchNetModel\n",
    "\n",
    "gnn_model = SchNetModel(n_out=1,\n",
    "                        cutoff=dataset.metadata['cutoff'],\n",
    "                        atomic_numbers=dataset.metadata['z_table'],\n",
    "                        n_bases=14,\n",
    "                        n_layers=3,\n",
    "                        n_filters=28,\n",
    "                        n_hidden_channels=24,\n",
    "                        w_out_after_pool=True,\n",
    "                        aggr='min'\n",
    "                    )"
   ]
  },
  {
   "cell_type": "markdown",
   "metadata": {},
   "source": [
    "### Initializing Committor model\n",
    "The initalization of the CV class is almost identical to the standard committor case, with the only difference that we provide the initialized GNN object as model.\n"
   ]
  },
  {
   "cell_type": "code",
   "execution_count": 6,
   "metadata": {},
   "outputs": [
    {
     "name": "stderr",
     "output_type": "stream",
     "text": [
      "/home/pkang@iit.local/miniconda3/envs/mlcolvar_new/lib/python3.11/site-packages/lightning/pytorch/utilities/parsing.py:199: Attribute 'model' is an instance of `nn.Module` and is already saved during checkpointing. It is recommended to ignore them using `self.save_hyperparameters(ignore=['model'])`.\n"
     ]
    }
   ],
   "source": [
    "import torch\n",
    "from mlcolvar.cvs import Committor\n",
    "\n",
    "from mlcolvar.cvs.committor.utils import initialize_committor_masses \n",
    "# we can still set the options for the optimizer the usual way\n",
    "# options for the BLOCKS of the cv are disabled when passing an external model\n",
    "options = {'optimizer' : {'lr' : 6e-4,'weight_decay': 1E-6},\n",
    "           'lr_scheduler': {\n",
    "            'scheduler': torch.optim.lr_scheduler.ExponentialLR,\n",
    "            'gamma': 0.99992}\n",
    "        }\n",
    "\n",
    "# atomic_masses = initialize_committor_masses(atom_types=[0, 0, 1, 2, 0, 0, 0, 1, 2, 0], \n",
    "#                                             masses=[12.011, 15.999, 14.007])\n",
    "atomic_masses= torch.Tensor([ 15.999, 22.989, 35.45])\n",
    "model = Committor(\n",
    "        atomic_masses=atomic_masses,\n",
    "        # atomic_masses = None,  # Atomic masses will be extracted from graph data automatically\n",
    "        separate_boundary_dataset=False,\n",
    "                    alpha=10,\n",
    "                    delta_f=0,\n",
    "                    n_dim=1,    # Set n_dim =1 for Graph data\n",
    "                    log_var= True,\n",
    "                    model=gnn_model)\n"
   ]
  },
  {
   "cell_type": "markdown",
   "metadata": {},
   "source": [
    "### Training the Committor\n",
    "Here, everything works the same!"
   ]
  },
  {
   "cell_type": "code",
   "execution_count": 7,
   "metadata": {},
   "outputs": [
    {
     "name": "stderr",
     "output_type": "stream",
     "text": [
      "GPU available: True (cuda), used: False\n",
      "TPU available: False, using: 0 TPU cores\n",
      "IPU available: False, using: 0 IPUs\n",
      "HPU available: False, using: 0 HPUs\n",
      "/home/pkang@iit.local/miniconda3/envs/mlcolvar_new/lib/python3.11/site-packages/lightning/pytorch/trainer/setup.py:187: GPU available but not used. You can set it by doing `Trainer(accelerator='gpu')`.\n",
      "/home/pkang@iit.local/miniconda3/envs/mlcolvar_new/lib/python3.11/site-packages/lightning/pytorch/callbacks/model_checkpoint.py:653: Checkpoint directory /home/pkang@iit.local/work/committor_gnn/github/tutorial/modelsave exists and is not empty.\n"
     ]
    },
    {
     "name": "stdout",
     "output_type": "stream",
     "text": [
      "Sanity Checking DataLoader 0:   0%|          | 0/1 [00:00<?, ?it/s]"
     ]
    },
    {
     "name": "stderr",
     "output_type": "stream",
     "text": [
      "/home/pkang@iit.local/miniconda3/envs/mlcolvar_new/lib/python3.11/site-packages/lightning/pytorch/trainer/connectors/data_connector.py:492: Your `val_dataloader`'s sampler has shuffling enabled, it is strongly recommended that you turn shuffling off for val/test dataloaders.\n",
      "/home/pkang@iit.local/miniconda3/envs/mlcolvar_new/lib/python3.11/site-packages/lightning/pytorch/trainer/connectors/data_connector.py:441: The 'val_dataloader' does not have many workers which may be a bottleneck. Consider increasing the value of the `num_workers` argument` to `num_workers=63` in the `DataLoader` to improve performance.\n"
     ]
    },
    {
     "name": "stdout",
     "output_type": "stream",
     "text": [
      "                                                                           "
     ]
    },
    {
     "name": "stderr",
     "output_type": "stream",
     "text": [
      "/home/pkang@iit.local/miniconda3/envs/mlcolvar_new/lib/python3.11/site-packages/lightning/pytorch/utilities/data.py:77: Trying to infer the `batch_size` from an ambiguous collection. The batch size we found is 2. To avoid any miscalculations, use `self.log(..., batch_size=batch_size)`.\n",
      "/home/pkang@iit.local/miniconda3/envs/mlcolvar_new/lib/python3.11/site-packages/lightning/pytorch/trainer/connectors/data_connector.py:441: The 'train_dataloader' does not have many workers which may be a bottleneck. Consider increasing the value of the `num_workers` argument` to `num_workers=63` in the `DataLoader` to improve performance.\n"
     ]
    },
    {
     "name": "stdout",
     "output_type": "stream",
     "text": [
      "Epoch 49: 100%|██████████| 1/1 [00:12<00:00,  0.08it/s]"
     ]
    },
    {
     "name": "stderr",
     "output_type": "stream",
     "text": [
      "`Trainer.fit` stopped: `max_epochs=50` reached.\n"
     ]
    },
    {
     "name": "stdout",
     "output_type": "stream",
     "text": [
      "Epoch 49: 100%|██████████| 1/1 [00:12<00:00,  0.08it/s]\n"
     ]
    }
   ],
   "source": [
    "from lightning import Trainer\n",
    "from mlcolvar.utils.trainer import MetricsCallback\n",
    "from mlcolvar.utils.plot import plot_metrics\n",
    "import matplotlib.pyplot as plt\n",
    "from lightning.pytorch.callbacks import ModelCheckpoint\n",
    "from lightning.pytorch.callbacks.early_stopping import EarlyStopping\n",
    "# define callbacks\n",
    "\n",
    "metrics = MetricsCallback()\n",
    "checkpoint_callback = ModelCheckpoint(dirpath=\"./modelsave/\", save_top_k=10, monitor=\"train_loss_epoch\", every_n_epochs=50)\n",
    "early_stopping = EarlyStopping(\n",
    "    monitor='train_loss',\n",
    "    patience=100,\n",
    "    min_delta=1E-5,\n",
    "    stopping_threshold=-15,\n",
    ")\n",
    "# initialize trainer, for testing the number of epochs is low, change this to something like 4/5000 at least\n",
    "trainer = Trainer(callbacks=[metrics, checkpoint_callback,early_stopping], max_epochs=50, logger=False, enable_checkpointing=True,enable_model_summary=False,\n",
    "            accelerator='cpu'\n",
    "        )\n",
    "\n",
    "# trainer = Trainer(\n",
    "#     callbacks=[metrics],\n",
    "#     logger=False,\n",
    "#     enable_checkpointing=False,\n",
    "#     max_epochs=5,\n",
    "#     enable_model_summary=False\n",
    "# )\n",
    "\n",
    "trainer.fit(model, datamodule)"
   ]
  },
  {
   "cell_type": "markdown",
   "metadata": {},
   "source": [
    "#### Plot training metrics"
   ]
  },
  {
   "cell_type": "code",
   "execution_count": 8,
   "metadata": {},
   "outputs": [
    {
     "data": {
      "image/png": "[encoded data removed]",
      "text/plain": [
       "<Figure size 500x400 with 1 Axes>"
      ]
     },
     "metadata": {},
     "output_type": "display_data"
    }
   ],
   "source": [
    "\n",
    "# plot metrics\n",
    "ax = plot_metrics(metrics.metrics,\n",
    "                  keys=['train_loss', 'train_loss_var'],\n",
    "                  colors=['fessa1','fessa5'],\n",
    "                  yscale='log',)"
   ]
  },
  {
   "cell_type": "markdown",
   "metadata": {},
   "source": [
    "### Testing the model\n",
    "As the graph data are stored as `torch_geometric.Data` they need to be loaded using a loader object.\n",
    "For convenience, we implemented both in `DictDataset ` and `DictModule` a method `.get_graph_data` to do it so that one can simply evaluate the model calling either:\n",
    "- `model(dataset.get_graph_data())` --> Returns the **whole dataset**\n",
    "- `model(datamodule.get_graph_data())` --> Returns either the **train or valid dataset**"
   ]
  },
  {
   "cell_type": "code",
   "execution_count": 9,
   "metadata": {},
   "outputs": [
    {
     "data": {
      "image/png": "[encoded data removed]",
      "text/plain": [
       "<Figure size 1000x300 with 2 Axes>"
      ]
     },
     "metadata": {},
     "output_type": "display_data"
    }
   ],
   "source": [
    "fig, axs = plt.subplots(1,2, figsize=(10,3))\n",
    "\n",
    "ax = axs[0]\n",
    "out_graph = model(dataset.get_graph_inputs())\n",
    "ax.hist(out_graph.detach().squeeze(), bins=100)\n",
    "ax.set_title('From Dataset')\n",
    "ax.set_xlabel('GNN CV')\n",
    "ax.set_ylim(0,850)\n",
    "\n",
    "ax = axs[1]\n",
    "out_graph = model(datamodule.get_graph_inputs(\"train\"))\n",
    "ax.hist(out_graph.detach().squeeze(), bins=100)\n",
    "out_graph = model(datamodule.get_graph_inputs(\"valid\"))\n",
    "ax.hist(out_graph.detach().squeeze(), bins=100)\n",
    "\n",
    "ax.set_title('From Datamodule')\n",
    "ax.set_xlabel('GNN CV')\n",
    "ax.set_ylim(0,1000)\n",
    "plt.show()"
   ]
  },
  {
   "cell_type": "markdown",
   "metadata": {},
   "source": [
    "### Save the model to TorchScript\n",
    "As for normal CVs, the frozen model can be saved to TorchScript suing the `Lightning` util `to_torchscript` using `method=trace`."
   ]
  },
  {
   "cell_type": "code",
   "execution_count": 10,
   "metadata": {},
   "outputs": [
    {
     "name": "stderr",
     "output_type": "stream",
     "text": [
      "/home/pkang@iit.local/miniconda3/envs/mlcolvar_new/lib/python3.11/site-packages/mlcolvar/data/datamodule.py:322: UserWarning: Length of split at index 1 is 0. This might result in an empty dataset.\n",
      "  warnings.warn(\n"
     ]
    },
    {
     "data": {
      "text/plain": [
       "False"
      ]
     },
     "execution_count": 10,
     "metadata": {},
     "output_type": "execute_result"
    }
   ],
   "source": [
    "traced_model = model.to_torchscript('gnn_model.pt', method='trace')\n",
    "\n",
    "# we can also check the outputs coincide\n",
    "torch.allclose(model(dataset.get_graph_inputs()), traced_model(dataset.get_graph_inputs()))"
   ]
  },
  {
   "cell_type": "code",
   "execution_count": null,
   "metadata": {},
   "outputs": [],
   "source": []
  }
 ],
 "metadata": {
  "kernelspec": {
   "display_name": "Python 3.11.9 ('mlcolvar_new')",
   "language": "python",
   "name": "python3"
  },
  "language_info": {
   "codemirror_mode": {
    "name": "ipython",
    "version": 3
   },
   "file_extension": ".py",
   "mimetype": "text/x-python",
   "name": "python",
   "nbconvert_exporter": "python",
   "pygments_lexer": "ipython3",
   "version": "3.11.9"
  },
  "vscode": {
   "interpreter": {
    "hash": "f94fb2022fa3ef35d30a50acd8ea6f14d198c61e42e2008256f564e5f56599c6"
   }
  }
 },
 "nbformat": 4,
 "nbformat_minor": 2
}
